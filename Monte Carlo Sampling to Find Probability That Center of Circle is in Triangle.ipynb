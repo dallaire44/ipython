{
 "cells": [
  {
   "cell_type": "markdown",
   "metadata": {},
   "source": [
    "Monte Carlo Sampling to Find Probability That Center of Circle is in Triangle\n",
    "========"
   ]
  },
  {
   "cell_type": "markdown",
   "metadata": {},
   "source": [
    "**David Dallaire - linkedin https://ca.linkedin.com/in/ddallaire**"
   ]
  },
  {
   "cell_type": "markdown",
   "metadata": {},
   "source": [
    "Sample three random points on the circumference of a circle, and use these to draw a triangle. What is the probability that this triangle includes the center of the circle? Base on the following site:\n",
    "\n",
    "http://math.stackexchange.com/questions/268635/what-is-the-probability-that-the-center-of-the-circle-is-contained-within-the-tr \n",
    "\n",
    "the answer is 0.25. The Monte Carlo sampling below confirms this probability. "
   ]
  },
  {
   "cell_type": "markdown",
   "metadata": {},
   "source": [
    "The first step is to sample three points between 0 degrees and 360 degrees from a random uniform distribution. "
   ]
  },
  {
   "cell_type": "code",
   "execution_count": 1,
   "metadata": {
    "collapsed": false
   },
   "outputs": [
    {
     "name": "stdout",
     "output_type": "stream",
     "text": [
      "[  67.27150413   73.25323343  278.30255756]\n"
     ]
    }
   ],
   "source": [
    "import numpy as np\n",
    "import matplotlib.pyplot as plt\n",
    "from matplotlib.patches import Arc, Polygon\n",
    "import matplotlib.patches as mpatches\n",
    "import math\n",
    "from scipy.spatial import distance\n",
    "\n",
    "s = np.sort(np.random.uniform(0,360,3))\n",
    "\n",
    "print(s)\n"
   ]
  },
  {
   "cell_type": "markdown",
   "metadata": {},
   "source": [
    "The next step is to devise an algorithm that will determine if the centre of the circle is on the triangle's surface area. One way is to start with the two first sample points: A and B. For A, extend a line through the center of the circle to the opposite side to point $ A^{'} $,forming a diameter. Repeat for B to get $ B^{'} $. Points $ A^{'} $ and $ B^{'} $ delineate an arc on the circle. One criteria for determining if the center of the circle is in the sampled triangle is as follows: (1) it is true if the third sample point in on the arc formed by $ A^{'} $ and $ B^{'}$;  (2) false otherwise."
   ]
  },
  {
   "cell_type": "code",
   "execution_count": 2,
   "metadata": {
    "collapsed": true
   },
   "outputs": [],
   "source": [
    "#plot function\n",
    "def plot(s):\n",
    "    aPrime = (s[0] + 180) % 360\n",
    "   \n",
    "    bPrime = (s[1] + 180) % 360\n",
    "   \n",
    "    isIn = IsInArc(aPrime,bPrime,s[2])\n",
    "        \n",
    "    aRad = math.radians(s[0])\n",
    "    bRad = math.radians(s[1])\n",
    "    cRad = math.radians(s[2])\n",
    "    aPrimeRad = math.radians(aPrime)\n",
    "    bPrimeRad = math.radians(bPrime)\n",
    "\n",
    "\n",
    "    xa = math.cos(aRad)\n",
    "    ya = math.sin(aRad)\n",
    "    xb = math.cos(bRad)\n",
    "    yb = math.sin(bRad)\n",
    "    xc = math.cos(cRad)\n",
    "    yc = math.sin(cRad)\n",
    "\n",
    "    xaPrime = math.cos(aPrimeRad)\n",
    "    yaPrime = math.sin(aPrimeRad)\n",
    "    xbPrime = math.cos(bPrimeRad)\n",
    "    ybPrime = math.sin(bPrimeRad)\n",
    "\n",
    "    xArray = np.array([0,xa,xaPrime,xb,xbPrime,xc])\n",
    "    yArray = np.array([0,ya,yaPrime,yb,ybPrime,yc])\n",
    "\n",
    "\n",
    "    triangleArray = np.array([[xa,ya],[xb,yb],[xc,yc]])\n",
    "\n",
    "    #plot circle with center at 0,0\n",
    "    fig = plt.figure(1)\n",
    "\n",
    "    fig.suptitle('Is Center of Circle in Triangle? ' + str(isIn),fontsize=20)\n",
    "    plt.axis([-1.1,1.1,-1.1,1.1])\n",
    "    ax=fig.add_subplot(1,1,1)\n",
    "    circle = plt.Circle((0.0,0.0),radius=1,fill=False,color='blue')\n",
    "    ax.add_patch(circle)\n",
    "\n",
    "\n",
    "    plt.plot(xArray,yArray,'ro')\n",
    "    plt.plot(xArray[1:3],yArray[1:3])\n",
    "    plt.plot(xArray[3:5],yArray[3:5])\n",
    "    plt.annotate(\"A\",xy = (xArray[1],yArray[1]))\n",
    "    plt.annotate(\"A'\",xy = (xArray[2],yArray[2]))\n",
    "    plt.annotate(\"A\",xy = (xArray[1],yArray[1]))\n",
    "    plt.annotate(\"B\",xy = (xArray[3],yArray[3]))\n",
    "    plt.annotate(\"B'\",xy = (xArray[4],yArray[4]))\n",
    "    plt.annotate(\"C\",xy = (xArray[5],yArray[5]))\n",
    "    triangle = Polygon(triangleArray,alpha=0.4)\n",
    "    ax.add_patch(triangle)\n",
    "    \n",
    "    thetaArray = np.sort(np.array([aPrime,bPrime]))\n",
    "    \n",
    "    angelDiff = thetaArray[1] - thetaArray[0]\n",
    "    \n",
    "    if angelDiff < 180:\n",
    "       thetaArray = thetaArray[::-1]\n",
    "    \n",
    "    ellipse = Arc([0,0],2,2,angle=0,theta1=thetaArray[0],theta2=thetaArray[1],color='green',linewidth='2')\n",
    "    ax.add_patch(ellipse)\n",
    "    ax.set_aspect(\"equal\")\n",
    "    plt.show()    \n",
    "    "
   ]
  },
  {
   "cell_type": "code",
   "execution_count": 3,
   "metadata": {
    "collapsed": true
   },
   "outputs": [],
   "source": [
    "def IsInArc(A,B,C):\n",
    "    primeArray = np.sort(np.array([A,B]))\n",
    "    diffP = primeArray[1] - primeArray[0]\n",
    "\n",
    "    if diffP < 180:\n",
    "        isIn = s[2] >= primeArray[0] and s[2] <= primeArray[1]\n",
    "    else:\n",
    "        isIn = s[2] <= primeArray[0] or s[2] >= primeArray[1]\n",
    "\n",
    "    return isIn"
   ]
  },
  {
   "cell_type": "code",
   "execution_count": 5,
   "metadata": {
    "collapsed": false
   },
   "outputs": [
    {
     "name": "stdout",
     "output_type": "stream",
     "text": [
      "Probability is 0.25\n"
     ]
    }
   ],
   "source": [
    "#Run Monte Carlo\n",
    "count = 0\n",
    "numberOfPaths = 100000\n",
    "\n",
    "for i in range(0,numberOfPaths):\n",
    "\n",
    "    s = np.sort(np.random.uniform(0,360,3))\n",
    "\n",
    "    aPrime = (s[0] + 180) % 360\n",
    "    bPrime = (s[1] + 180) % 360\n",
    "\n",
    "    #if aPrime < bPrime:\n",
    "    #    isIn = aPrime <= s[2] and s[2] <= bPrime\n",
    "    #else:\n",
    "    #    isIn = aPrime >= s[2] and s[2] >= bPrime\n",
    "    \n",
    "    \n",
    "    if IsInArc(aPrime,bPrime,s[2]):\n",
    "        count = count + 1\n",
    "       \n",
    "print(\"Probability is \" + str(round(count/numberOfPaths,2)))"
   ]
  },
  {
   "cell_type": "code",
   "execution_count": 6,
   "metadata": {
    "collapsed": true
   },
   "outputs": [],
   "source": [
    "#this will return the type of triangle\n",
    "\n",
    "def TriangleType(s):\n",
    "    aRad = math.radians(s[0])\n",
    "    bRad = math.radians(s[1])\n",
    "    cRad = math.radians(s[2])\n",
    "    \n",
    "    xa = math.cos(aRad)\n",
    "    ya = math.sin(aRad)\n",
    "    xb = math.cos(bRad)\n",
    "    yb = math.sin(bRad)\n",
    "    xc = math.cos(cRad)\n",
    "    yc = math.sin(cRad)\n",
    "    \n",
    "    ab = distance.euclidean((xa,ya),(xb,yb))\n",
    "    bc = distance.euclidean((xb,yb),(xc,yc))\n",
    "    ca = distance.euclidean((xc,yc),(xa,ya))\n",
    "\n",
    "    triangleSides = np.sort(np.array([ab,bc,ca]))\n",
    "    \n",
    "    pyThagDiff = triangleSides[2]**2 - (triangleSides[0]**2 + triangleSides[1]**2)\n",
    "\n",
    "    type = \"Acute\"\n",
    "    \n",
    "    if (pyThagDiff > 0.0):\n",
    "        type = \"Obtuse\"\n",
    "    elif (pyThagDiff == 0.0):\n",
    "        type = \"Square\"\n",
    "\n",
    "    return type"
   ]
  },
  {
   "cell_type": "code",
   "execution_count": 116,
   "metadata": {
    "collapsed": false
   },
   "outputs": [],
   "source": [
    "#This section to do hand testing\n",
    "%matplotlib inline\n",
    "s = np.sort(np.random.uniform(0,360,3))\n",
    "#s[0] = 23.89034348\n",
    "#s[1] = 227.50068777\n",
    "#s[2] = 273.45969593\n",
    "\n",
    "#s[0] = 129.62364966\n",
    "#s[1] = 223.57256605\n",
    "#s[2] = 298.63178767\n",
    "\n",
    "#s[0] = 133.69378608\n",
    "#s[1] = 312.4282278\n",
    "#s[2] = 337.47042175\n",
    "\n",
    "aPrime = (s[0] + 180) % 360\n",
    "bPrime = (s[1] + 180) % 360\n",
    "#print(s)\n",
    "#print(aPrime)\n",
    "#print(bPrime)\n",
    "\n",
    "primeA = np.sort(np.array([aPrime,bPrime]))\n",
    "#print(primeA)\n",
    "diffP = primeA[1] - primeA[0]\n",
    "#print(diffP)\n",
    "\n",
    "\n",
    "#if aPrime < bPrime:\n",
    "#   isIn = aPrime <= s[2] and s[2] <= bPrime\n",
    "#else:\n",
    "#   print(\"FALSE\")\n",
    "#   isIn = s[2] >= aPrime and s[2] >= bPrime\n",
    "\n",
    "#print(IsInArc(aPrime,bPrime,s[2]))\n",
    "#print(TriangleType(s))\n",
    "#print(s)\n",
    "#plot(s)    \n",
    "#s = np.sort(np.random.uniform(0,360,3))\n",
    "#print(s)\n",
    "#plot(s)"
   ]
  },
  {
   "cell_type": "markdown",
   "metadata": {},
   "source": [
    "Show a couple of plots. The arc of the circle colored in blue is a criteria neighborhood. If the third point is in this neighborhood, then the center of the circle is in the triangle."
   ]
  },
  {
   "cell_type": "code",
   "execution_count": 118,
   "metadata": {
    "collapsed": false
   },
   "outputs": [
    {
     "name": "stdout",
     "output_type": "stream",
     "text": [
      "[  27.10582281  120.95212508  294.43131231]\n"
     ]
    },
    {
     "data": {
      "image/png": "[encoded data removed]",
      "text/plain": [
       "<matplotlib.figure.Figure at 0x7ff08ca56b70>"
      ]
     },
     "metadata": {},
     "output_type": "display_data"
    },
    {
     "name": "stdout",
     "output_type": "stream",
     "text": [
      "[  17.24464385  147.28068957  353.64324721]\n"
     ]
    },
    {
     "data": {
      "image/png": "[encoded data removed]",
      "text/plain": [
       "<matplotlib.figure.Figure at 0x7ff087b3b6d8>"
      ]
     },
     "metadata": {},
     "output_type": "display_data"
    }
   ],
   "source": [
    "s = np.sort(np.random.uniform(0,360,3))\n",
    "print(s)\n",
    "plot(s)\n",
    "\n",
    "s = np.sort(np.random.uniform(0,360,3))\n",
    "print(s)\n",
    "plot(s)  "
   ]
  },
  {
   "cell_type": "markdown",
   "metadata": {},
   "source": [
    "Try a different criteria here. If the triangle is acute, then it contains its center circle."
   ]
  },
  {
   "cell_type": "code",
   "execution_count": 7,
   "metadata": {
    "collapsed": false
   },
   "outputs": [
    {
     "name": "stdout",
     "output_type": "stream",
     "text": [
      "Probability is 0.25\n"
     ]
    }
   ],
   "source": [
    "#perform monte carlo using acute test\n",
    "\n",
    "count = 0\n",
    "numberOfPaths = 100000\n",
    "\n",
    "for i in range(0,numberOfPaths):\n",
    "\n",
    "    s = np.sort(np.random.uniform(0,360,3))\n",
    "\n",
    "    if TriangleType(s) == \"Acute\":\n",
    "        count = count + 1\n",
    "    \n",
    "print(\"Probability is \" + str(round(count/numberOfPaths,2)))"
   ]
  },
  {
   "cell_type": "code",
   "execution_count": null,
   "metadata": {
    "collapsed": true
   },
   "outputs": [],
   "source": []
  }
 ],
 "metadata": {
  "kernelspec": {
   "display_name": "Python 3",
   "language": "python",
   "name": "python3"
  },
  "language_info": {
   "codemirror_mode": {
    "name": "ipython",
    "version": 3
   },
   "file_extension": ".py",
   "mimetype": "text/x-python",
   "name": "python",
   "nbconvert_exporter": "python",
   "pygments_lexer": "ipython3",
   "version": "3.5.1"
  }
 },
 "nbformat": 4,
 "nbformat_minor": 0
}
