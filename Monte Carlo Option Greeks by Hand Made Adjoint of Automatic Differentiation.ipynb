{
 "cells": [
  {
   "cell_type": "markdown",
   "metadata": {},
   "source": [
    "Monte Carlo Option Greeks by Hand Made Adjoint of Automatic Differentiation\n",
    "========"
   ]
  },
  {
   "cell_type": "markdown",
   "metadata": {},
   "source": [
    "**David Dallaire - linkedin https://ca.linkedin.com/in/ddallaire**"
   ]
  },
  {
   "cell_type": "markdown",
   "metadata": {},
   "source": [
    "# Introduction"
   ]
  },
  {
   "cell_type": "markdown",
   "metadata": {},
   "source": [
    "This IPython/Jupyter notebook shows a simple example of calculating option greeks in Monte Carlo by the adjoint method of automatic differentiation. The focus is on implementation in Python: background can be found in available books and papers. The goal is to demonstrate the mechanics of the adjoint method via a simple implementation--a supplement to a text description of the algorithm."
   ]
  },
  {
   "cell_type": "markdown",
   "metadata": {
    "collapsed": true
   },
   "source": [
    "The adjoint or backward mode method of calculating option greeks is an alternative to the finite difference methodology (knows as \"bumping\") and to closed form symbolic greeks. Speed of calculation is the main advantage of the adjoint over bumping, especially when the number of sensitivities is large. The speed-up will not be as noticeable in this implementation as the example is on a simple option.  "
   ]
  },
  {
   "cell_type": "markdown",
   "metadata": {},
   "source": [
    "This notebook has five main sections. The first section has the math for the algorithm. This is followed by implementation of the closed form Merton model. The third section will dive into the hand implementation of Delta, Vega and Rho greeks. The fourth section repeats the calculation of Delta, Vega and Rho but using finite differences. The fifth section will show an example of the python package \"ad\" for automatic differentiation by mechanical method.  "
   ]
  },
  {
   "cell_type": "markdown",
   "metadata": {},
   "source": [
    "# Adjoint Math for Geometric Brownian Motion SDE"
   ]
  },
  {
   "cell_type": "markdown",
   "metadata": {},
   "source": [
    "The Euler discretization is a follows:"
   ]
  },
  {
   "cell_type": "markdown",
   "metadata": {},
   "source": [
    "\n",
    "\\begin{equation}\n",
    "S_{n+1} = S_n + rS_n\\Delta_t + \\sigma S_n\\sqrt{\\Delta_t}Z_n \\;n = 0,...N-1 \n",
    "\\end{equation}"
   ]
  },
  {
   "cell_type": "markdown",
   "metadata": {},
   "source": [
    "Given known values for $S_0$, r, $\\sigma$, T, K."
   ]
  },
  {
   "cell_type": "markdown",
   "metadata": {},
   "source": [
    "\n",
    "The payoff is as follows:"
   ]
  },
  {
   "cell_type": "markdown",
   "metadata": {
    "collapsed": true
   },
   "source": [
    "\\begin{equation}\n",
    "P = e^{-rT} max(0,S_N - K)\n",
    "\\end{equation}"
   ]
  },
  {
   "cell_type": "markdown",
   "metadata": {},
   "source": [
    "\n",
    "The adjoint applies the chain rule $\\frac{\\partial V}{\\partial \\theta} = \\frac{\\partial P}{\\partial S} \\frac{\\partial S}{\\partial \\theta}$ and has two sets of parameters: a set for the payoff $\\frac{\\partial P}{\\partial S}$ and a set for the MC path $\\frac{\\partial S}{\\partial \\theta}$. \n",
    "\n",
    "For each MC path, the adjoint has to do a forward pass: it steps through time going forward to the payoff. Some of the path parameters needed on the backward pass can be stored during this forward pass. For example, each $S_n$ and random numbers $Z_n$ of the path are stored.\n",
    "\n",
    "Once the time step reaches the final simulation time N (maturity), the payoff parameters are activated if the option is in the money. The payoff parameters all have a bar above their letter. Each parameter is found by differentiating the payoff in turn. Here are the parameters and their values:\n"
   ]
  },
  {
   "cell_type": "markdown",
   "metadata": {},
   "source": [
    "\n",
    "\\begin{equation}\n",
    "\\bar{S}_N = \\frac{\\partial P}{\\partial S} = e^{-rT} 1_{{S_N}>K}\n",
    "\\end{equation}\n",
    "\n",
    "\\begin{equation}\n",
    "\\bar{r} =\\frac{\\partial P}{\\partial r} = -e^{-rT}1_{{S_N}>K}(S_N-K)T\n",
    "\\end{equation}\n",
    "\n",
    "\\begin{equation}\n",
    "\\bar{\\sigma} = \\frac{\\partial P}{\\partial \\sigma} = 0 \n",
    "\\end{equation}\n",
    "\n",
    "\\begin{equation}\n",
    "\\bar{T} = \\frac{\\partial P}{\\partial T} = -e^{-rT}1_{{S_N}>K}(S_N-K)r\n",
    "\\end{equation}\n"
   ]
  },
  {
   "cell_type": "markdown",
   "metadata": {},
   "source": [
    "\n",
    "For positive payoffs only, the bar values are simulated backwards from time N-1 to zero. The MC path parameters are as follows:"
   ]
  },
  {
   "cell_type": "markdown",
   "metadata": {},
   "source": [
    " \n",
    " \\begin{equation}\n",
    " \\bar{S}_n = (1 + r\\Delta_t + \\sigma\\sqrt{\\Delta_t}Z_n)\\bar{S}_{n+1}\n",
    " \\end{equation}\n",
    " \n",
    " \\begin{equation}\n",
    " \\bar{r} = \\sum_{n=N-1}^0 (S_n\\Delta_t \\bar{S}_{n+1})\n",
    " \\end{equation}\n",
    " \n",
    " \\begin{equation}\n",
    " \\bar{\\sigma} = \\sum_{n=N-1}^0 (S_n\\sqrt{\\Delta_t} \\bar{S}_{n+1})\n",
    " \\end{equation}\n",
    "  "
   ]
  },
  {
   "cell_type": "markdown",
   "metadata": {},
   "source": [
    "# Closed Form Generalized Black-Sholes/Merton Model"
   ]
  },
  {
   "cell_type": "code",
   "execution_count": 42,
   "metadata": {
    "collapsed": false
   },
   "outputs": [
    {
     "name": "stdout",
     "output_type": "stream",
     "text": [
      "callValue 9.13519526935\n",
      "Delta = 0.581011879666\n",
      "Vega = 37.5240346917\n",
      "Rho = 48.9659926973\n"
     ]
    }
   ],
   "source": [
    "#Closed Form Generalized Black-Sholes\n",
    "import math\n",
    "import scipy.stats\n",
    "stockPrice = 100\n",
    "strike = 100\n",
    "shortRate = 0.06\n",
    "dividend = 0.03\n",
    "Maturity = 1\n",
    "volatility = 0.2\n",
    "\n",
    "d1 = (math.log(stockPrice/strike) + (shortRate - dividend + volatility*volatility/2) \\\n",
    "      *Maturity)/(math.sqrt(Maturity) * volatility)\n",
    "\n",
    "d2 = d1 - volatility * math.sqrt(Maturity)\n",
    "\n",
    "delta = math.exp(-dividend*Maturity)*scipy.stats.norm(0,1).cdf(d1)  \n",
    "\n",
    "vega = stockPrice *  math.exp(-dividend*Maturity)*scipy.stats.norm(0,1).pdf(d1) * math.sqrt(Maturity)\n",
    "\n",
    "rho = strike * math.exp(-shortRate * Maturity)*scipy.stats.norm(0,1).cdf(d2)\n",
    "\n",
    "callValue = stockPrice * delta - rho\n",
    "\n",
    "print(\"callValue \" + str(callValue))\n",
    "print(\"Delta = \" + str(delta))\n",
    "print(\"Vega = \" + str(vega))\n",
    "print(\"Rho = \" + str(rho))"
   ]
  },
  {
   "cell_type": "markdown",
   "metadata": {},
   "source": [
    "# Hand Implementation of Adjoint for Monte Carlo Option Greeks"
   ]
  },
  {
   "cell_type": "markdown",
   "metadata": {
    "collapsed": false
   },
   "source": [
    "Coded here are two versions: one is based on the 'for loop' structure and the other is based on the vector/matrix calculations of the 'NumPy' python package. The vector based calculation is much faster. \n",
    "\n",
    "The reason for creating the loop based version is to compare it to the mechanical automatic differentiation method of the 'ad' python library, given the 'ad' package does not work with NumPy vector/matrix."
   ]
  },
  {
   "cell_type": "markdown",
   "metadata": {
    "collapsed": true
   },
   "source": [
    "## Loop Based Hand Adjoint"
   ]
  },
  {
   "cell_type": "code",
   "execution_count": 1,
   "metadata": {
    "collapsed": false
   },
   "outputs": [
    {
     "name": "stdout",
     "output_type": "stream",
     "text": [
      "CPU times: user 0 ns, sys: 0 ns, total: 0 ns\n",
      "Wall time: 5.25 µs\n",
      "----------------------\n",
      "Call Value = 9.18927287808\n",
      "delta = 0.571032536288\n",
      "rho = 48.4648524133\n",
      "vega = 37.4512229808\n",
      "Elapsed time = 221.39049291610718\n"
     ]
    }
   ],
   "source": [
    "%time\n",
    "'''\n",
    "#######################################################################\n",
    "#\n",
    "#              Simple Monte Carlo looping with Adjoin Automatic \n",
    "#              Differentiation by Hand\n",
    "#              Version 1.0.0\n",
    "#              David Dallaire, February 11, 2016\n",
    "#\n",
    "#              Regular inputs for vanilla option: \n",
    "#                    Price, Strike, Rate, Dividend Yield, Volatility,\n",
    "#                    Maturity\n",
    "########################################################################\n",
    "#\n",
    "#              OUTPUTS\n",
    "#              delta, rho, vega\n",
    "#########################################################################\n",
    "\n",
    "'''\n",
    "import numpy as np\n",
    "import sys\n",
    "import math as math\n",
    "from time import time\n",
    "\n",
    "t0 = time()\n",
    "np.random.seed(3000)\n",
    "#params\n",
    "maturity=1; initialStockPrice=100; strike=100; sigma=0.2; rate=.06; dividend = 0.03\n",
    "timeSteps = 365;simulations=250000\n",
    "\n",
    "dt = maturity/timeSteps\n",
    "sqrtDt = math.sqrt(dt) \n",
    "nudt =(rate-dividend-0.5*sigma**2)*dt #drift\n",
    "sigmasdt = sigma* math.sqrt(dt) #dW\n",
    "lnSo = math.log(initialStockPrice)\n",
    "sumCallValue = 0\n",
    "sumDelta = 0\n",
    "sumR = 0\n",
    "sumSig = 0\n",
    "D = math.exp(-rate*maturity)\n",
    "\n",
    "Stockn = np.zeros(timeSteps + 1)\n",
    "Stockn[0] = initialStockPrice\n",
    "\n",
    "for j in range(1,simulations+1) :\n",
    "    lnSt = lnSo\n",
    "    #store random values on forward pass\n",
    "    randVector =  np.random.randn(timeSteps)\n",
    "    for i in range(1,timeSteps+1):\n",
    "        lnSt = lnSt + nudt + sigmasdt * float(randVector[i-1])\n",
    "        #store stock values on forward pass\n",
    "        Stockn[i] = math.exp(lnSt) \n",
    "        \n",
    "    endStockValue = Stockn[timeSteps]\n",
    "    callValue = max(0, endStockValue - strike)\n",
    "   \n",
    "    #start adjoint backward pass   \n",
    "    if endStockValue > strike: \n",
    "        #initialize bar values at N\n",
    "        SBarN = D  #Equation 3\n",
    "        rhoBarN = -D * (endStockValue-strike)*maturity #Equation 4\n",
    "        sigmaBarN = 0 #Equation 5\n",
    "        #loop backwards\n",
    "        for n in range(timeSteps-1,-1,-1):\n",
    "            rhoBarN = rhoBarN + Stockn[n] * dt * SBarN #Equation 8\n",
    "            sigmaBarN = sigmaBarN + Stockn[n] * sqrtDt * randVector[n] * SBarN #Equation 9\n",
    "            SBarN = (1 + nudt + sigma * sqrtDt * randVector[n]) * SBarN #Equation 7\n",
    "        sumDelta += SBarN\n",
    "        sumR += rhoBarN\n",
    "        sumSig += sigmaBarN\n",
    "        \n",
    "    sumCallValue += callValue\n",
    "    \n",
    "call_value = sumCallValue/simulations * D\n",
    "print(\"----------------------\")\n",
    "print(\"Call Value = \" + str(call_value))\n",
    "print(\"delta = \" + str(sumDelta/simulations))\n",
    "print(\"rho = \" + str(sumR/simulations))\n",
    "print(\"vega = \" + str(sumSig/simulations))\n",
    "tnp1 = time() - t0\n",
    "print(\"Elapsed time = \" + str(tnp1))\n",
    "\n",
    "#250,000 paths and 365 time steps\n",
    "#CPU times: user 0 ns, sys: 0 ns, total: 0 ns\n",
    "#Wall time: 5.25 µs\n",
    "#----------------------\n",
    "#Call Value = 9.18927287808\n",
    "#delta = 0.571032536288\n",
    "#rho = 48.4648524133\n",
    "#vega = 37.4512229808\n",
    "#Elapsed time = 221.39049291610718"
   ]
  },
  {
   "cell_type": "markdown",
   "metadata": {},
   "source": [
    "## Vector Based Hand Adjoint"
   ]
  },
  {
   "cell_type": "code",
   "execution_count": 2,
   "metadata": {
    "collapsed": false
   },
   "outputs": [
    {
     "name": "stdout",
     "output_type": "stream",
     "text": [
      "CPU times: user 0 ns, sys: 0 ns, total: 0 ns\n",
      "Wall time: 9.54 µs\n",
      "call value = 9.18927287808\n",
      "delta = 0.571032536288\n",
      "rho = 48.308463572\n",
      "vega = 37.4512229808\n",
      "Elapsed time = 35.474997997283936\n"
     ]
    }
   ],
   "source": [
    "%time\n",
    "'''\n",
    "#######################################################################\n",
    "#\n",
    "#              Simple Monte Carlo by vector calculation\n",
    "#                 with Adjoin Automatic Differentiation by Hand\n",
    "#              Version 1.0.0\n",
    "#              David Dallaire, February 11, 2016\n",
    "#\n",
    "#              Regular inputs for vanilla option: \n",
    "#                    Price, Strike, Rate, Dividend Yield, Volatility,\n",
    "#                    Maturity\n",
    "########################################################################\n",
    "#\n",
    "#              OUTPUTS\n",
    "#              delta, rho, vega\n",
    "#########################################################################\n",
    "Created on Jan 18, 2016\n",
    "http://pythonhosted.org/ad/\n",
    "@author: ddu\n",
    "'''\n",
    "import numpy as np\n",
    "import math as math\n",
    "import sys\n",
    "\n",
    "def MC(stockValue,strike,rate,dividend,maturity,sigma,paths,timeSteps):\n",
    "\n",
    "    D = math.exp(-rate*maturity)\n",
    "    lnSo = math.log(stockValue)\n",
    "    np.random.seed(3000)\n",
    "    dt = maturity/timeSteps\n",
    "    nudt = (rate - dividend - 0.5*sigma**2) * dt #drift\n",
    "    randMatrix =  np.random.randn(paths,timeSteps)\n",
    "    \n",
    "    increments = nudt + randMatrix * sigma * math.sqrt(dt)\n",
    "   \n",
    "    colS = np.zeros((paths,1))\n",
    "    colS[:]=lnSo\n",
    "    #setup matrix with stock price in first column and increments in all future time step column\n",
    "    kSim = np.hstack((colS,increments))\n",
    "    #calculate cumulative sum on forward pass of simulated stock prices\n",
    "    cummulant = np.exp(np.cumsum(kSim,axis=1))\n",
    "    #keep columns where payoff is positive\n",
    "    inTheMoneyBool = cummulant[:,timeSteps]>strike  \n",
    "    endStockValue = cummulant[inTheMoneyBool]\n",
    "    callValue = np.sum(endStockValue[:,timeSteps]-strike)/paths  * math.exp(-rate*maturity)\n",
    "    \n",
    "    #this is same as:\n",
    "    #diff = 1 + (rate - dividend - 0.5*sigma**2) * dt + randMatrix * sigma * math.sqrt(dt)\n",
    "    diff = 1 + increments\n",
    "    diff = diff[inTheMoneyBool] #keep in the money rows\n",
    "    \n",
    "    nRows = endStockValue.shape[0]\n",
    "    tmpCol = np.full((nRows,1),D)\n",
    "    #setup matrix where last column is SbarN and all other columns are the decrements\n",
    "    delta = np.hstack((diff,tmpCol))\n",
    "    \n",
    "    #this does the cummulative in reverse\n",
    "    deltaSim = np.fliplr(np.cumprod(np.fliplr(delta),axis=1)) # Equation 7\n",
    "    deltaValue = np.sum(deltaSim[:,0])/paths\n",
    "\n",
    "    #rho\n",
    "    rV = -D * (endStockValue[:,timeSteps]-strike) * maturity   #this is rBarN     \n",
    "    rVdiffs = dt * (endStockValue[:,0:timeSteps] * deltaSim[:,1:timeSteps+1]) # these are the rho decrements\n",
    "    #put in one matrix\n",
    "    rVAll = np.hstack((dt * (endStockValue[:,0:timeSteps] * deltaSim[:,1:timeSteps+1]),\n",
    "                                      rV.reshape((nRows,1))))\n",
    "    \n",
    "    rho = np.sum(rVAll[:,1:(timeSteps+3)])/paths\n",
    "    \n",
    "    #vega\n",
    "    vega = (endStockValue[:,0:timeSteps] * deltaSim[:,1:timeSteps+1] * randMatrix[inTheMoneyBool]) * math.sqrt(dt) \n",
    "    vegaValue = (np.sum(vega)/paths)\n",
    "    \n",
    "    #theta\n",
    "    #thetaN = -D * (endStockValue[:,timeSteps]-strike) * r\n",
    "\n",
    "    Sn = endStockValue[:,0:timeSteps]\n",
    "    SBarn = deltaSim[:,1:timeSteps+1]\n",
    "    #T = (((r*Sn + (0.5*sigma*Sn*randMatrix[inTheMoneyBool])/sqrt(dt))/timeSteps) * SBarn)\n",
    "    #T2 = np.hstack((T,thetaN.reshape((nRows,1))))\n",
    "    #print(np.sum(T2)/paths)\n",
    "      \n",
    "    return callValue,deltaValue,rho,vegaValue\n",
    "\n",
    "t0 = time()\n",
    "maturity = 1\n",
    "paths = 250000\n",
    "timeSteps = 365\n",
    "dt = maturity / timeSteps\n",
    "sigma = 0.2\n",
    "dividend = (0.03)\n",
    "initialStockPrice = 100.\n",
    "strike = 100\n",
    "rate = 0.06\n",
    "answer = MC(initialStockPrice,strike,rate,dividend,maturity,sigma,paths,timeSteps)\n",
    "print(\"call value = \" + str(answer[0]))\n",
    "print(\"delta = \" + str(answer[1]))\n",
    "print(\"rho = \" + str(answer[2]))\n",
    "print(\"vega = \" + str(answer[3]))\n",
    "tnp1 = time() - t0\n",
    "print(\"Elapsed time = \" + str(tnp1))\n",
    "\n",
    "#250,000 paths and 365 time steps\n",
    "#CPU times: user 0 ns, sys: 0 ns, total: 0 ns\n",
    "#Wall time: 9.54 µs\n",
    "#call value = 9.18927287808\n",
    "#delta = 0.571032536288\n",
    "#rho = 48.308463572\n",
    "#vega = 37.4512229808\n",
    "#Elapsed time = 35.474997997283936"
   ]
  },
  {
   "cell_type": "markdown",
   "metadata": {
    "collapsed": true
   },
   "source": [
    "# Finite Difference Greeks"
   ]
  },
  {
   "cell_type": "code",
   "execution_count": 3,
   "metadata": {
    "collapsed": false
   },
   "outputs": [
    {
     "name": "stdout",
     "output_type": "stream",
     "text": [
      "CPU times: user 0 ns, sys: 0 ns, total: 0 ns\n",
      "Wall time: 215 µs\n",
      "call value = 9.18927287808\n",
      "delta = 0.582553264756\n",
      "vega = 37.8217644544\n",
      "rho 49.0660537358\n",
      "Elapsed time = 71.51109099388123\n"
     ]
    }
   ],
   "source": [
    "%time\n",
    "'''\n",
    "#######################################################################\n",
    "#\n",
    "#              Simple Monte Carlo looping with Greeks by \n",
    "#              Finite Difference\n",
    "#              Version 1.0.0\n",
    "#              David Dallaire, February 11, 2016\n",
    "#\n",
    "#              Regular inputs for vanilla option: \n",
    "#                    Price, Strike, Rate, Dividend Yield, Volatility,\n",
    "#                    Maturity\n",
    "########################################################################\n",
    "#\n",
    "#              OUTPUTS\n",
    "#              delta, rho, vega\n",
    "#########################################################################\n",
    "Created on Jan 18, 2016\n",
    "http://pythonhosted.org/ad/\n",
    "@author: ddu\n",
    "'''\n",
    "import numpy as np\n",
    "import math as math\n",
    "import sys\n",
    "\n",
    "def MC(S,K,r,d,maturity,sig,paths,timeSteps):\n",
    "    lnS = math.log(S)\n",
    "    np.random.seed(3000)\n",
    "    dt = maturity/timeSteps\n",
    "    nudt = (r - d - 0.5*sig**2) * dt\n",
    "    k = nudt + np.random.randn(paths,timeSteps) * sig * math.sqrt(dt)\n",
    "    colS = np.zeros((paths,1))\n",
    "    colS[:]=lnS\n",
    "    k = np.hstack((colS,k))\n",
    "    expL = np.exp(np.cumsum(k,axis=1))\n",
    "    #keep columns where payoff is positive\n",
    "    expLCall = expL[expL[:,timeSteps]>K]\n",
    "    callValue = np.sum(expLCall[:,timeSteps]-K)/paths  * math.exp(-r*maturity)\n",
    "    return callValue\n",
    "\n",
    "t0 = time()\n",
    "maturity = 1.0\n",
    "paths = 250000\n",
    "timeSteps = 365\n",
    "dt = maturity / timeSteps\n",
    "mu = (0.06)\n",
    "sigma = 0.2\n",
    "div = (0.03)\n",
    "S = 100.\n",
    "K = 100\n",
    "sig = (0.2)\n",
    "r = 0.06\n",
    "ans = MC(S,K,r,div,maturity,sig,paths,timeSteps)\n",
    "\n",
    "print(\"call value = \" + str(ans))\n",
    "\n",
    "#Delta\n",
    "tweak = 0.01\n",
    "cPlusTweak = MC(S + tweak,K,r,div,maturity,sig,paths,timeSteps)\n",
    "cMinusTweak = MC(S - tweak,K,r,div,maturity,sig,paths,timeSteps)\n",
    "#print(cPlusTweak)\n",
    "#print(cMinusTweak)\n",
    "delta = (cPlusTweak - cMinusTweak)/(2*tweak)\n",
    "print(\"delta = \" + str(delta))\n",
    "\n",
    "#vega\n",
    "sigTweak = 0.0001\n",
    "cPlusSigTweak = MC(S,K,r,div,maturity,sig+sigTweak,paths,timeSteps)\n",
    "cMinusSigTweak = MC(S,K,r,div,maturity,sig-sigTweak,paths,timeSteps)\n",
    "vega = (cPlusSigTweak - cMinusSigTweak)/(2*sigTweak)\n",
    "print(\"vega = \" + str(vega))\n",
    "\n",
    "#rho\n",
    "rhoTweak = 0.0001\n",
    "cPlusRhoTweak = MC(S,K,r+rhoTweak,div,maturity,sig,paths,timeSteps)\n",
    "cMinusRhoTweak = MC(S,K,r-rhoTweak,div,maturity,sig,paths,timeSteps)\n",
    "rho = (cPlusRhoTweak - cMinusRhoTweak)/(2*rhoTweak)\n",
    "print(\"rho \" + str(rho))\n",
    "tnp1 = time() - t0\n",
    "print(\"Elapsed time = \" + str(tnp1))\n",
    "\n",
    "#250,000 paths and 365 time steps\n",
    "#CPU times: user 0 ns, sys: 0 ns, total: 0 ns\n",
    "#Wall time: 215 µs\n",
    "#call value = 9.18927287808\n",
    "#delta = 0.582553264756\n",
    "#vega = 37.8217644544\n",
    "#rho 49.0660537358\n",
    "#Elapsed time = 71.51109099388123"
   ]
  },
  {
   "cell_type": "markdown",
   "metadata": {
    "collapsed": true
   },
   "source": [
    "# Greeks Using AD Package"
   ]
  },
  {
   "cell_type": "markdown",
   "metadata": {},
   "source": [
    "The AD package as of writing does not work with NumPy vectors. Thus, the application of the AD package using the slower non-vectorized MC below. Based on the results and configuration here, the AD is rather slow in this case."
   ]
  },
  {
   "cell_type": "code",
   "execution_count": 2,
   "metadata": {
    "collapsed": false,
    "scrolled": true
   },
   "outputs": [
    {
     "name": "stdout",
     "output_type": "stream",
     "text": [
      "CPU times: user 0 ns, sys: 0 ns, total: 0 ns\n",
      "Wall time: 5.48 µs\n",
      "call value = ad(9.345810767043462)\n",
      "delta = 0.5856242529215658\n",
      "rho = 49.216614525112774\n",
      "vega = 38.68742808702166\n",
      "timeDiff = 1179.4010179042816\n"
     ]
    }
   ],
   "source": [
    "%time\n",
    "'''\n",
    "#######################################################################\n",
    "#\n",
    "#              Simple Monte Carlo looping with package AD\n",
    "#              Version 1.0.0\n",
    "#              David Dallaire, February 11, 2016\n",
    "#\n",
    "#              Regular inputs for vanilla option: \n",
    "#                    Price, Strike, Rate, Dividend Yield, Volatility,\n",
    "#                    Maturity\n",
    "########################################################################\n",
    "#\n",
    "#              OUTPUTS\n",
    "#              delta, rho, vega\n",
    "#########################################################################\n",
    "Created on Jan 18, 2016\n",
    "'''\n",
    "import numpy as np\n",
    "import sys\n",
    "#import math as math\n",
    "from time import time\n",
    "from ad import adnumber\n",
    "from ad.admath import *  # sin(), etc.\n",
    "from ad import jacobian\n",
    "\n",
    "np.random.seed(3000)\n",
    "to = time()\n",
    "\n",
    "#params\n",
    "maturity=1; S=adnumber(100); strike=100; sigma=adnumber(0.2); rate=adnumber(.06); dividend = 0.03\n",
    "timeSteps = 365;simulations=10000\n",
    "\n",
    "dt = maturity/timeSteps\n",
    "sqrtDt = sqrt(dt) \n",
    "nudt =(rate-dividend-0.5*sigma**2)*dt #drift\n",
    "sigmasdt = sigma* sqrt(dt) #dW\n",
    "lnSo = ln(S)\n",
    "sumCallValue = 0\n",
    "sumDelta = 0\n",
    "sumR = 0\n",
    "sumSig = 0\n",
    "D = exp(-rate*maturity)\n",
    "\n",
    "for j in range(1,simulations+1) :\n",
    "    lnSt = lnSo\n",
    "    randVector =  np.random.randn(timeSteps)\n",
    "    for i in range(1,timeSteps+1):\n",
    "        lnSt = lnSt + nudt + sigmasdt * float(randVector[i-1])\n",
    "                \n",
    "    endStockValue = exp(lnSt)\n",
    "    callValue = max(0, endStockValue - strike)\n",
    "    sumCallValue += callValue\n",
    "    \n",
    "call_value = sumCallValue/simulations * D\n",
    "print(\"call value = \" + str(call_value))\n",
    "print(\"delta = \" + str(call_value.d(S)))\n",
    "print(\"rho = \" + str(call_value.d(rate)))\n",
    "print(\"vega = \" + str(call_value.d(sigma)))\n",
    "timeDiff = time() - to\n",
    "print(\"timeDiff = \" + str(timeDiff))\n",
    "\n",
    "#10,000 paths and 365 time steps\n",
    "#CPU times: user 0 ns, sys: 0 ns, total: 0 ns\n",
    "#Wall time: 5.48 µs\n",
    "#call value = ad(9.345810767043462)\n",
    "#delta = 0.5856242529215658\n",
    "#rho = 49.216614525112774\n",
    "#vega = 38.68742808702166\n",
    "#timeDiff = 1179.4010179042816"
   ]
  },
  {
   "cell_type": "markdown",
   "metadata": {},
   "source": [
    "# Conclusion"
   ]
  },
  {
   "cell_type": "markdown",
   "metadata": {},
   "source": [
    "The vector version of the MC Greeks by the hand adjoint is the fastest as expected, taking 35 seconds versus the 72 seconds for the vector version of MC Greeks by finite difference. The comparison of the AD package to non-vector version of hand adjoint shows that AD is very slow; however, the AD might not be setup properly or was not optimized for this type of MC calculation. Plus, the AD is not available with NumPy vectors. The objective here was to demonstrate the mechanics of the adjoint method with a basic example. The speed comparisons are less important as the example is trivial one; that is, the speed up is more pronounced as the number of sensitivities/Greeks increase."
   ]
  },
  {
   "cell_type": "markdown",
   "metadata": {
    "collapsed": true
   },
   "source": [
    "# References"
   ]
  },
  {
   "cell_type": "markdown",
   "metadata": {},
   "source": [
    "-  [1] Giles, Mike. Adjoint methods in computational finance.(https://staff.fnwi.uva.nl/p.j.c.spreij/winterschool/slidesGiles3.pdf).\n",
    "\n",
    "- [2] Homescu, Cristian. Adjoints and automatic (algorithmic) differentiation in computation finance.(http://arxiv.org/pdf/1107.1831.pdf)\n",
    "\n",
    "- [3] Capriotti, Luca. Fast Greeks by algorithmic differentiation. The Journal of Computational Finance (3-35), Volume 14/3, Spring 2011. (http://luca-capriotti.net/pdfs/Finance/jcf_capriotti_press_web.pdf) \n",
    "\n",
    "- [4] Capriatti, Luca, and Giles, Mike. Algorithmic Differentiation: Adjoint Greeks Made Easy. March 31, 2011. (http://papers.ssrn.com/sol3/papers.cfm?abstract_id=1801522)"
   ]
  }
 ],
 "metadata": {
  "kernelspec": {
   "display_name": "Python 3",
   "language": "python",
   "name": "python3"
  },
  "language_info": {
   "codemirror_mode": {
    "name": "ipython",
    "version": 3
   },
   "file_extension": ".py",
   "mimetype": "text/x-python",
   "name": "python",
   "nbconvert_exporter": "python",
   "pygments_lexer": "ipython3",
   "version": "3.5.1"
  }
 },
 "nbformat": 4,
 "nbformat_minor": 0
}
